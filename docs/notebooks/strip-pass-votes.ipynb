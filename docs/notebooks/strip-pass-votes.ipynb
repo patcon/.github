{
  "cells": [
    {
      "cell_type": "markdown",
      "metadata": {
        "id": "view-in-github",
        "colab_type": "text"
      },
      "source": [
        "<a href=\"https://colab.research.google.com/github/patcon/.github/blob/main/docs/notebooks/strip-pass-votes.ipynb\" target=\"_parent\"><img src=\"https://colab.research.google.com/assets/colab-badge.svg\" alt=\"Open In Colab\"/></a>"
      ]
    },
    {
      "cell_type": "code",
      "execution_count": 5,
      "metadata": {
        "colab": {
          "base_uri": "https://localhost:8080/"
        },
        "id": "kEyVHx6y7zpu",
        "outputId": "a2930923-8491-4075-9740-01fc54fc6a3a"
      },
      "outputs": [
        {
          "output_type": "stream",
          "name": "stdout",
          "text": [
            "  Installing build dependencies ... \u001b[?25l\u001b[?25hdone\n",
            "  Getting requirements to build wheel ... \u001b[?25l\u001b[?25hdone\n",
            "  Preparing metadata (pyproject.toml) ... \u001b[?25l\u001b[?25hdone\n"
          ]
        }
      ],
      "source": [
        "%pip install --quiet --no-cache-dir git+https://github.com/patcon/red-dwarf.git@main"
      ]
    },
    {
      "cell_type": "code",
      "execution_count": 6,
      "metadata": {
        "id": "4Offyb7fPpUg"
      },
      "outputs": [],
      "source": [
        "CONVOS = {\n",
        "    # Topic: What were the most significant developments in tech and politics in 2018?\n",
        "    # 5 groups, 65 ptpts (56 grouped), 43 comments (open)\n",
        "    \"tech-politics-2018\": {\n",
        "        \"report_id\": \"r2dfw8eambusb8buvecjt\",\n",
        "        \"convo_id\": \"6jrufhr6dp\",\n",
        "    },\n",
        "    # Topic: How should we operate vehicle-for-hire, e.g. Uber, Lyft and taxis in Toronto?\n",
        "    # 2 groups, 47 ptpts (36 grouped), 69 comments (open)\n",
        "    \"rideshare-toronto\": {\n",
        "        \"report_id\": \"r8xhmkwp6shm9yfermteh\",\n",
        "        \"convo_id\": \"7vampckwrh\",\n",
        "    },\n",
        "}"
      ]
    },
    {
      "cell_type": "code",
      "execution_count": 7,
      "metadata": {
        "id": "tothK_WVb9-7"
      },
      "outputs": [],
      "source": [
        "# Set up interactive widgets.\n",
        "\n",
        "from ipywidgets import interact, interact_manual\n",
        "import ipywidgets as widgets\n",
        "from random import random\n",
        "\n",
        "checkbox = widgets.Checkbox(\n",
        "    value=False,\n",
        "    description='Remove pass votes',\n",
        "    indent=True,\n",
        ")\n",
        "random_val = widgets.FloatText()\n",
        "button = widgets.Button(description=\"Re-run Clustering\")\n",
        "\n",
        "def on_button_click(_):\n",
        "    random_val.value = random()\n",
        "button.on_click(on_button_click)"
      ]
    },
    {
      "cell_type": "code",
      "execution_count": 8,
      "metadata": {
        "colab": {
          "base_uri": "https://localhost:8080/",
          "height": 637,
          "referenced_widgets": [
            "7b80751e3bcc42b2a5b5e6f43f1a9d8d",
            "0276f6bb9c6b42c28cbd3c0cc2416ec4",
            "2297de4788cb4652bd7b1b657a9a9307",
            "5852eb31b8494ec4919bed423463362c",
            "5b34501ca1774887a7d61eb99a1cab10",
            "3588a01c27f3462ab6c01a4f0cee8d9a",
            "5bbd33fdac6442ccab602721e06d9f39",
            "6d9fa877007d451e84ad1d18a1b7b58a",
            "6c5667dc09ce47488747e032646402eb",
            "b6ca452d6b904e528d77a5c15731fc99"
          ]
        },
        "id": "NkGdoHCy8RdA",
        "outputId": "300b2026-648e-47b7-a8af-cfe6f7acb389"
      },
      "outputs": [
        {
          "output_type": "stream",
          "name": "stdout",
          "text": [
            "Loading data from report: https://pol.is/report/r2dfw8eambusb8buvecjt\n",
            "\n",
            "Run with or without pass votes, to see the algorithmic effect of including pass votes.\n"
          ]
        },
        {
          "output_type": "display_data",
          "data": {
            "text/plain": [
              "HBox(children=(Checkbox(value=False, description='Remove pass votes'), Button(description='Re-run Clustering',…"
            ],
            "application/vnd.jupyter.widget-view+json": {
              "version_major": 2,
              "version_minor": 0,
              "model_id": "7b80751e3bcc42b2a5b5e6f43f1a9d8d"
            }
          },
          "metadata": {}
        },
        {
          "output_type": "display_data",
          "data": {
            "text/plain": [
              "Output()"
            ],
            "application/vnd.jupyter.widget-view+json": {
              "version_major": 2,
              "version_minor": 0,
              "model_id": "6c5667dc09ce47488747e032646402eb"
            }
          },
          "metadata": {}
        }
      ],
      "source": [
        "from reddwarf.polis import PolisClient\n",
        "from reddwarf.data_presenter import DataPresenter\n",
        "\n",
        "report_id = CONVOS[\"tech-politics-2018\"][\"report_id\"]\n",
        "print(f\"Loading data from report: https://pol.is/report/{report_id}\")\n",
        "print()\n",
        "print(\"Run with or without pass votes, to see the algorithmic effect of including pass votes.\")\n",
        "\n",
        "# Display the checkboxes.\n",
        "display(widgets.HBox([checkbox, button]))\n",
        "\n",
        "# To see the consequences of not having pass/neutral/zero votes\n",
        "def cluster_and_plot(do_strip_pass_votes, dummy_var):\n",
        "    client = PolisClient()\n",
        "    client.load_data(report_id=report_id)\n",
        "    if do_strip_pass_votes:\n",
        "        client.votes = []\n",
        "        client.load_votes_data(data=[v for v in client.data_loader.votes_data if v[\"vote\"] != 0])\n",
        "    client.get_matrix(is_filtered=True)\n",
        "    client.run_pca()\n",
        "    client.scale_projected_data()\n",
        "    client.find_optimal_k()\n",
        "\n",
        "    presenter = DataPresenter(client=client)\n",
        "    presenter.render_optimal_cluster_figure()\n",
        "\n",
        "# Render the interactive widget\n",
        "widgets.interactive_output(cluster_and_plot, {'do_strip_pass_votes': checkbox, 'dummy_var': random_val})"
      ]
    }
  ],
  "metadata": {
    "colab": {
      "provenance": [],
      "include_colab_link": true
    },
    "kernelspec": {
      "display_name": "Python 3",
      "name": "python3"
    },
    "language_info": {
      "name": "python"
    },
    "widgets": {
      "application/vnd.jupyter.widget-state+json": {
        "7b80751e3bcc42b2a5b5e6f43f1a9d8d": {
          "model_module": "@jupyter-widgets/controls",
          "model_name": "HBoxModel",
          "model_module_version": "1.5.0",
          "state": {
            "_dom_classes": [],
            "_model_module": "@jupyter-widgets/controls",
            "_model_module_version": "1.5.0",
            "_model_name": "HBoxModel",
            "_view_count": null,
            "_view_module": "@jupyter-widgets/controls",
            "_view_module_version": "1.5.0",
            "_view_name": "HBoxView",
            "box_style": "",
            "children": [
              "IPY_MODEL_0276f6bb9c6b42c28cbd3c0cc2416ec4",
              "IPY_MODEL_2297de4788cb4652bd7b1b657a9a9307"
            ],
            "layout": "IPY_MODEL_5852eb31b8494ec4919bed423463362c"
          }
        },
        "0276f6bb9c6b42c28cbd3c0cc2416ec4": {
          "model_module": "@jupyter-widgets/controls",
          "model_name": "CheckboxModel",
          "model_module_version": "1.5.0",
          "state": {
            "_dom_classes": [],
            "_model_module": "@jupyter-widgets/controls",
            "_model_module_version": "1.5.0",
            "_model_name": "CheckboxModel",
            "_view_count": null,
            "_view_module": "@jupyter-widgets/controls",
            "_view_module_version": "1.5.0",
            "_view_name": "CheckboxView",
            "description": "Remove pass votes",
            "description_tooltip": null,
            "disabled": false,
            "indent": true,
            "layout": "IPY_MODEL_5b34501ca1774887a7d61eb99a1cab10",
            "style": "IPY_MODEL_3588a01c27f3462ab6c01a4f0cee8d9a",
            "value": false
          }
        },
        "2297de4788cb4652bd7b1b657a9a9307": {
          "model_module": "@jupyter-widgets/controls",
          "model_name": "ButtonModel",
          "model_module_version": "1.5.0",
          "state": {
            "_dom_classes": [],
            "_model_module": "@jupyter-widgets/controls",
            "_model_module_version": "1.5.0",
            "_model_name": "ButtonModel",
            "_view_count": null,
            "_view_module": "@jupyter-widgets/controls",
            "_view_module_version": "1.5.0",
            "_view_name": "ButtonView",
            "button_style": "",
            "description": "Re-run Clustering",
            "disabled": false,
            "icon": "",
            "layout": "IPY_MODEL_5bbd33fdac6442ccab602721e06d9f39",
            "style": "IPY_MODEL_6d9fa877007d451e84ad1d18a1b7b58a",
            "tooltip": ""
          }
        },
        "5852eb31b8494ec4919bed423463362c": {
          "model_module": "@jupyter-widgets/base",
          "model_name": "LayoutModel",
          "model_module_version": "1.2.0",
          "state": {
            "_model_module": "@jupyter-widgets/base",
            "_model_module_version": "1.2.0",
            "_model_name": "LayoutModel",
            "_view_count": null,
            "_view_module": "@jupyter-widgets/base",
            "_view_module_version": "1.2.0",
            "_view_name": "LayoutView",
            "align_content": null,
            "align_items": null,
            "align_self": null,
            "border": null,
            "bottom": null,
            "display": null,
            "flex": null,
            "flex_flow": null,
            "grid_area": null,
            "grid_auto_columns": null,
            "grid_auto_flow": null,
            "grid_auto_rows": null,
            "grid_column": null,
            "grid_gap": null,
            "grid_row": null,
            "grid_template_areas": null,
            "grid_template_columns": null,
            "grid_template_rows": null,
            "height": null,
            "justify_content": null,
            "justify_items": null,
            "left": null,
            "margin": null,
            "max_height": null,
            "max_width": null,
            "min_height": null,
            "min_width": null,
            "object_fit": null,
            "object_position": null,
            "order": null,
            "overflow": null,
            "overflow_x": null,
            "overflow_y": null,
            "padding": null,
            "right": null,
            "top": null,
            "visibility": null,
            "width": null
          }
        },
        "5b34501ca1774887a7d61eb99a1cab10": {
          "model_module": "@jupyter-widgets/base",
          "model_name": "LayoutModel",
          "model_module_version": "1.2.0",
          "state": {
            "_model_module": "@jupyter-widgets/base",
            "_model_module_version": "1.2.0",
            "_model_name": "LayoutModel",
            "_view_count": null,
            "_view_module": "@jupyter-widgets/base",
            "_view_module_version": "1.2.0",
            "_view_name": "LayoutView",
            "align_content": null,
            "align_items": null,
            "align_self": null,
            "border": null,
            "bottom": null,
            "display": null,
            "flex": null,
            "flex_flow": null,
            "grid_area": null,
            "grid_auto_columns": null,
            "grid_auto_flow": null,
            "grid_auto_rows": null,
            "grid_column": null,
            "grid_gap": null,
            "grid_row": null,
            "grid_template_areas": null,
            "grid_template_columns": null,
            "grid_template_rows": null,
            "height": null,
            "justify_content": null,
            "justify_items": null,
            "left": null,
            "margin": null,
            "max_height": null,
            "max_width": null,
            "min_height": null,
            "min_width": null,
            "object_fit": null,
            "object_position": null,
            "order": null,
            "overflow": null,
            "overflow_x": null,
            "overflow_y": null,
            "padding": null,
            "right": null,
            "top": null,
            "visibility": null,
            "width": null
          }
        },
        "3588a01c27f3462ab6c01a4f0cee8d9a": {
          "model_module": "@jupyter-widgets/controls",
          "model_name": "DescriptionStyleModel",
          "model_module_version": "1.5.0",
          "state": {
            "_model_module": "@jupyter-widgets/controls",
            "_model_module_version": "1.5.0",
            "_model_name": "DescriptionStyleModel",
            "_view_count": null,
            "_view_module": "@jupyter-widgets/base",
            "_view_module_version": "1.2.0",
            "_view_name": "StyleView",
            "description_width": ""
          }
        },
        "5bbd33fdac6442ccab602721e06d9f39": {
          "model_module": "@jupyter-widgets/base",
          "model_name": "LayoutModel",
          "model_module_version": "1.2.0",
          "state": {
            "_model_module": "@jupyter-widgets/base",
            "_model_module_version": "1.2.0",
            "_model_name": "LayoutModel",
            "_view_count": null,
            "_view_module": "@jupyter-widgets/base",
            "_view_module_version": "1.2.0",
            "_view_name": "LayoutView",
            "align_content": null,
            "align_items": null,
            "align_self": null,
            "border": null,
            "bottom": null,
            "display": null,
            "flex": null,
            "flex_flow": null,
            "grid_area": null,
            "grid_auto_columns": null,
            "grid_auto_flow": null,
            "grid_auto_rows": null,
            "grid_column": null,
            "grid_gap": null,
            "grid_row": null,
            "grid_template_areas": null,
            "grid_template_columns": null,
            "grid_template_rows": null,
            "height": null,
            "justify_content": null,
            "justify_items": null,
            "left": null,
            "margin": null,
            "max_height": null,
            "max_width": null,
            "min_height": null,
            "min_width": null,
            "object_fit": null,
            "object_position": null,
            "order": null,
            "overflow": null,
            "overflow_x": null,
            "overflow_y": null,
            "padding": null,
            "right": null,
            "top": null,
            "visibility": null,
            "width": null
          }
        },
        "6d9fa877007d451e84ad1d18a1b7b58a": {
          "model_module": "@jupyter-widgets/controls",
          "model_name": "ButtonStyleModel",
          "model_module_version": "1.5.0",
          "state": {
            "_model_module": "@jupyter-widgets/controls",
            "_model_module_version": "1.5.0",
            "_model_name": "ButtonStyleModel",
            "_view_count": null,
            "_view_module": "@jupyter-widgets/base",
            "_view_module_version": "1.2.0",
            "_view_name": "StyleView",
            "button_color": null,
            "font_weight": ""
          }
        },
        "6c5667dc09ce47488747e032646402eb": {
          "model_module": "@jupyter-widgets/output",
          "model_name": "OutputModel",
          "model_module_version": "1.0.0",
          "state": {
            "_dom_classes": [],
            "_model_module": "@jupyter-widgets/output",
            "_model_module_version": "1.0.0",
            "_model_name": "OutputModel",
            "_view_count": null,
            "_view_module": "@jupyter-widgets/output",
            "_view_module_version": "1.0.0",
            "_view_name": "OutputView",
            "layout": "IPY_MODEL_b6ca452d6b904e528d77a5c15731fc99",
            "msg_id": "",
            "outputs": [
              {
                "output_type": "stream",
                "name": "stdout",
                "text": [
                  "k_test=2, this_silhouette_score=np.float64(0.33159897815223643)\n",
                  "k_test=3, this_silhouette_score=np.float64(0.3469892120027081)\n",
                  "k_test=4, this_silhouette_score=np.float64(0.36422865363228146)\n",
                  "k_test=5, this_silhouette_score=np.float64(0.2806184847380182)\n",
                  "Optimal clusters for K=4\n",
                  "Plotting PCA embeddings with K-means, K=4\n",
                  "Calculating convex hulls around clusters...\n",
                  "Hull 0, bounding 17 points\n",
                  "Hull 1, bounding 23 points\n",
                  "Hull 2, bounding 5 points\n",
                  "Hull 3, bounding 11 points\n"
                ]
              },
              {
                "output_type": "display_data",
                "data": {
                  "text/plain": "<Figure size 560x400 with 2 Axes>",
                  "image/png": "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\n"
                },
                "metadata": {}
              }
            ]
          }
        },
        "b6ca452d6b904e528d77a5c15731fc99": {
          "model_module": "@jupyter-widgets/base",
          "model_name": "LayoutModel",
          "model_module_version": "1.2.0",
          "state": {
            "_model_module": "@jupyter-widgets/base",
            "_model_module_version": "1.2.0",
            "_model_name": "LayoutModel",
            "_view_count": null,
            "_view_module": "@jupyter-widgets/base",
            "_view_module_version": "1.2.0",
            "_view_name": "LayoutView",
            "align_content": null,
            "align_items": null,
            "align_self": null,
            "border": null,
            "bottom": null,
            "display": null,
            "flex": null,
            "flex_flow": null,
            "grid_area": null,
            "grid_auto_columns": null,
            "grid_auto_flow": null,
            "grid_auto_rows": null,
            "grid_column": null,
            "grid_gap": null,
            "grid_row": null,
            "grid_template_areas": null,
            "grid_template_columns": null,
            "grid_template_rows": null,
            "height": null,
            "justify_content": null,
            "justify_items": null,
            "left": null,
            "margin": null,
            "max_height": null,
            "max_width": null,
            "min_height": null,
            "min_width": null,
            "object_fit": null,
            "object_position": null,
            "order": null,
            "overflow": null,
            "overflow_x": null,
            "overflow_y": null,
            "padding": null,
            "right": null,
            "top": null,
            "visibility": null,
            "width": null
          }
        }
      }
    }
  },
  "nbformat": 4,
  "nbformat_minor": 0
}