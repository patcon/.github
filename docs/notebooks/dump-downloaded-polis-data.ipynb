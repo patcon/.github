{
  "cells": [
    {
      "cell_type": "markdown",
      "metadata": {
        "id": "view-in-github",
        "colab_type": "text"
      },
      "source": [
        "<a href=\"https://colab.research.google.com/github/patcon/.github/blob/main/docs/notebooks/dump-downloaded-polis-data.ipynb\" target=\"_parent\"><img src=\"https://colab.research.google.com/assets/colab-badge.svg\" alt=\"Open In Colab\"/></a>"
      ]
    },
    {
      "cell_type": "code",
      "execution_count": 1,
      "metadata": {
        "colab": {
          "base_uri": "https://localhost:8080/"
        },
        "id": "kEyVHx6y7zpu",
        "outputId": "9b90818c-de65-4c75-97f0-db2d3af90dce"
      },
      "outputs": [
        {
          "output_type": "stream",
          "name": "stdout",
          "text": [
            "  Installing build dependencies ... \u001b[?25l\u001b[?25hdone\n",
            "  Getting requirements to build wheel ... \u001b[?25l\u001b[?25hdone\n",
            "  Preparing metadata (pyproject.toml) ... \u001b[?25l\u001b[?25hdone\n",
            "\u001b[2K   \u001b[90m━━━━━━━━━━━━━━━━━━━━━━━━━━━━━━━━━━━━━━━━\u001b[0m \u001b[32m116.1/116.1 kB\u001b[0m \u001b[31m75.4 MB/s\u001b[0m eta \u001b[36m0:00:00\u001b[0m\n",
            "\u001b[2K   \u001b[90m━━━━━━━━━━━━━━━━━━━━━━━━━━━━━━━━━━━━━━━━\u001b[0m \u001b[32m125.8/125.8 kB\u001b[0m \u001b[31m105.0 MB/s\u001b[0m eta \u001b[36m0:00:00\u001b[0m\n",
            "\u001b[2K   \u001b[90m━━━━━━━━━━━━━━━━━━━━━━━━━━━━━━━━━━━━━━━━\u001b[0m \u001b[32m61.4/61.4 kB\u001b[0m \u001b[31m206.6 MB/s\u001b[0m eta \u001b[36m0:00:00\u001b[0m\n",
            "\u001b[2K   \u001b[90m━━━━━━━━━━━━━━━━━━━━━━━━━━━━━━━━━━━━━━━━\u001b[0m \u001b[32m66.5/66.5 kB\u001b[0m \u001b[31m147.7 MB/s\u001b[0m eta \u001b[36m0:00:00\u001b[0m\n",
            "\u001b[?25h  Building wheel for red-dwarf (pyproject.toml) ... \u001b[?25l\u001b[?25hdone\n"
          ]
        }
      ],
      "source": [
        "%pip install --quiet --no-cache-dir git+https://github.com/patcon/red-dwarf.git@main"
      ]
    },
    {
      "cell_type": "code",
      "execution_count": 2,
      "metadata": {
        "id": "4Offyb7fPpUg"
      },
      "outputs": [],
      "source": [
        "CONVOS = {\n",
        "    # Topic: What were the most significant developments in tech and politics in 2018?\n",
        "    # 5 groups, 65 ptpts (56 grouped), 43 comments (open)\n",
        "    \"tech-politics-2018\": {\n",
        "        \"report_id\": \"r2dfw8eambusb8buvecjt\",\n",
        "        \"convo_id\": \"6jrufhr6dp\",\n",
        "    },\n",
        "    # Topic: How should we operate vehicle-for-hire, e.g. Uber, Lyft and taxis in Toronto?\n",
        "    # 2 groups, 47 ptpts (36 grouped), 69 comments (open)\n",
        "    \"rideshare-toronto\": {\n",
        "        \"report_id\": \"r8xhmkwp6shm9yfermteh\",\n",
        "        \"convo_id\": \"7vampckwrh\",\n",
        "    },\n",
        "}"
      ]
    },
    {
      "cell_type": "code",
      "source": [
        "# Optionally mount to GDrive and save files there.\n",
        "DO_SAVE_TO_GDRIVE = False\n",
        "if DO_SAVE_TO_GDRIVE:\n",
        "    from google.colab import drive\n",
        "    drive.mount('/content/drive')"
      ],
      "metadata": {
        "id": "UquDXl7rkvj9"
      },
      "execution_count": 16,
      "outputs": []
    },
    {
      "cell_type": "code",
      "execution_count": 17,
      "metadata": {
        "id": "NkGdoHCy8RdA"
      },
      "outputs": [],
      "source": [
        "from reddwarf.polis import PolisClient\n",
        "from reddwarf.data_presenter import DataPresenter\n",
        "\n",
        "client = PolisClient()\n",
        "client.load_data(report_id=CONVOS[\"tech-politics-2018\"][\"report_id\"])\n",
        "\n",
        "if DO_SAVE_TO_GDRIVE:\n",
        "  root_path = \"/content/drive/MyDrive\"\n",
        "else:\n",
        "  root_path = \"/content\"\n",
        "\n",
        "output_subdir = \"polis-demo-export\"\n",
        "\n",
        "client.data_loader.dump_data(output_dir=f\"{root_path}/{output_subdir}\")"
      ]
    }
  ],
  "metadata": {
    "colab": {
      "provenance": [],
      "include_colab_link": true
    },
    "kernelspec": {
      "display_name": "Python 3",
      "name": "python3"
    },
    "language_info": {
      "name": "python"
    }
  },
  "nbformat": 4,
  "nbformat_minor": 0
}